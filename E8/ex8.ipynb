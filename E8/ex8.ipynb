{
 "cells": [
  {
   "cell_type": "code",
   "execution_count": 1,
   "id": "c813dfa8",
   "metadata": {},
   "outputs": [],
   "source": [
    "import numpy as np"
   ]
  },
  {
   "cell_type": "code",
   "execution_count": 61,
   "id": "5a737fa5",
   "metadata": {},
   "outputs": [],
   "source": [
    "def bootstrap(r, data):\n",
    "    n = len(data)\n",
    "    means = []\n",
    "    medians = []\n",
    "    for _ in range(r):\n",
    "        resample = np.random.choice(data, size=n, replace=True)\n",
    "        means.append(resample.mean())\n",
    "        medians.append(np.median(resample))\n",
    "        \n",
    "    return np.array(means), np.array(medians)\n"
   ]
  },
  {
   "cell_type": "code",
   "execution_count": null,
   "id": "410b4d8f",
   "metadata": {},
   "outputs": [
    {
     "name": "stdout",
     "output_type": "stream",
     "text": [
      "p = 0.7631\n"
     ]
    }
   ],
   "source": [
    "def bootstrap_prob_estimate(X, a, b, r=10000):\n",
    "    n = len(X)\n",
    "    mu_hat = np.mean(X)\n",
    "    p_hat = 0\n",
    "    \n",
    "    for _ in range(r):\n",
    "        bootstrap_sample = np.random.choice(X, size=n, replace=True)\n",
    "        centered_mean = np.mean(bootstrap_sample) - mu_hat\n",
    "    \n",
    "        if a < centered_mean < b:\n",
    "            p_hat += 1\n",
    "    \n",
    "    return p_hat / r\n",
    "\n",
    "X = [56, 101, 78, 67, 93, 87, 64, 72, 80, 69]\n",
    "a = -5\n",
    "b = 5\n",
    "p = bootstrap_prob_estimate(X, a, b, 10000)\n",
    "print(f'p = {p}')"
   ]
  },
  {
   "cell_type": "code",
   "execution_count": null,
   "id": "a733c595",
   "metadata": {},
   "outputs": [],
   "source": [
    "# Exercise 15 in Brown\n",
    "data = [5,4,9,6,21,17,11,20,7,10,21,15,13,16,8]\n",
    "r = 1000\n",
    "n = len(data)\n",
    "\n",
    "\n",
    "def var_bootstrap(data, r):\n",
    "    bootstrap_S2 = np.empty(r)\n",
    "    for i in range(r):\n",
    "        bootstrap_sample = np.random.choice(data, size=n, replace=True)\n",
    "        bootstrap_S2[i] = np.var(bootstrap_sample, ddof=1)\n",
    "    return bootstrap_S2\n",
    "\n",
    "# Bootstrap estimate of Var(S^2)\n",
    "bootstrap_var_S2 = np.var(var_bootstrap(data), ddof=1)\n",
    "S2_original = np.var(data, ddof=1)\n",
    "\n",
    "print(f\"Original sample variance S²: {S2_original:.4f}\")\n",
    "print(f\"Bootstrap estimate of Var(S²): {bootstrap_var_S2:.4f}\")"
   ]
  },
  {
   "cell_type": "code",
   "execution_count": 56,
   "id": "47d31e54",
   "metadata": {},
   "outputs": [
    {
     "name": "stdout",
     "output_type": "stream",
     "text": [
      "Exercise 3:\n",
      "Bootstrapped mean:  5.549574754627215\n",
      "Bootstrapped median:  1.837846754386305\n"
     ]
    }
   ],
   "source": [
    "data = np.random.pareto(1.05, 200) + 1\n",
    "r = 100\n",
    "bootstrapped_means, bootstrapped_medians = bootstrap(r, data)\n",
    "print(\"Exercise 3:\")\n",
    "print(\"Bootstrapped mean: \", bootstrapped_means.mean())\n",
    "print(\"Bootstrapped median: \", np.median(bootstrapped_medians))"
   ]
  },
  {
   "cell_type": "code",
   "execution_count": null,
   "id": "85827272",
   "metadata": {},
   "outputs": [
    {
     "name": "stdout",
     "output_type": "stream",
     "text": [
      "variance of bootstrapped means: 1.1952716005376576\n"
     ]
    }
   ],
   "source": [
    "# B)\n",
    "mean_var = np.var(bootstrapped_means, ddof=1)\n",
    "print('Variance of bootstrapped means:', mean_var)"
   ]
  },
  {
   "cell_type": "code",
   "execution_count": null,
   "id": "00efaeed",
   "metadata": {},
   "outputs": [
    {
     "name": "stdout",
     "output_type": "stream",
     "text": [
      "variance of bootstrapped medians: 0.01670872110042171\n"
     ]
    }
   ],
   "source": [
    "# C)\n",
    "median_var = np.var(bootstrapped_medians, ddof=1)\n",
    "print('Variance of bootstrapped medians:', median_var)"
   ]
  },
  {
   "cell_type": "code",
   "execution_count": 59,
   "id": "f12c43a6",
   "metadata": {},
   "outputs": [
    {
     "name": "stdout",
     "output_type": "stream",
     "text": [
      "As relative efficiency is 71.536 > 1, the median is more efficient.\n"
     ]
    }
   ],
   "source": [
    "# D)\n",
    "relative_efficiency = mean_var / median_var\n",
    "print(f\"As relative efficiency is {relative_efficiency:.3f} > 1, the median is more efficient.\")"
   ]
  }
 ],
 "metadata": {
  "kernelspec": {
   "display_name": "stochastic",
   "language": "python",
   "name": "python3"
  },
  "language_info": {
   "codemirror_mode": {
    "name": "ipython",
    "version": 3
   },
   "file_extension": ".py",
   "mimetype": "text/x-python",
   "name": "python",
   "nbconvert_exporter": "python",
   "pygments_lexer": "ipython3",
   "version": "3.13.2"
  }
 },
 "nbformat": 4,
 "nbformat_minor": 5
}
