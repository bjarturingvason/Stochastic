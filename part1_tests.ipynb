{
 "cells": [
  {
   "cell_type": "code",
   "execution_count": 2,
   "id": "97f24b14",
   "metadata": {},
   "outputs": [],
   "source": [
    "import numpy as np\n",
    "import matplotlib.pyplot as plt\n"
   ]
  },
  {
   "cell_type": "code",
   "execution_count": 3,
   "id": "381f5b13",
   "metadata": {},
   "outputs": [],
   "source": [
    "beta = 0.5     # infection rate\n",
    "gamma = 0.1    # recovery rate\n",
    "mu = 0.01      # death rate\n",
    "k = 0.5        # non-linear contact rate\n",
    "dt = 1         # time step (days)\n",
    "T = 160        # total simulation time"
   ]
  },
  {
   "cell_type": "code",
   "execution_count": 4,
   "id": "818f13ed",
   "metadata": {},
   "outputs": [],
   "source": [
    "# Initial values\n",
    "N = 1_000_000\n",
    "I0 = 10\n",
    "S0 = N - I0\n",
    "R0 = 0\n",
    "D0 = 0"
   ]
  },
  {
   "cell_type": "code",
   "execution_count": null,
   "id": "ed9a0e8e",
   "metadata": {},
   "outputs": [
    {
     "ename": "KeyboardInterrupt",
     "evalue": "",
     "output_type": "error",
     "traceback": [
      "\u001b[0;31m---------------------------------------------------------------------------\u001b[0m",
      "\u001b[0;31mKeyboardInterrupt\u001b[0m                         Traceback (most recent call last)",
      "Cell \u001b[0;32mIn[7], line 18\u001b[0m\n\u001b[1;32m     16\u001b[0m \u001b[38;5;66;03m# Simulation\u001b[39;00m\n\u001b[1;32m     17\u001b[0m S, I, R, D \u001b[38;5;241m=\u001b[39m S0, I0, R0, D0\n\u001b[0;32m---> 18\u001b[0m time \u001b[38;5;241m=\u001b[39m \u001b[43mnp\u001b[49m\u001b[38;5;241;43m.\u001b[39;49m\u001b[43marange\u001b[49m\u001b[43m(\u001b[49m\u001b[38;5;241;43m0\u001b[39;49m\u001b[43m,\u001b[49m\u001b[43m \u001b[49m\u001b[43mT\u001b[49m\u001b[43m,\u001b[49m\u001b[43m \u001b[49m\u001b[43mdt\u001b[49m\u001b[43m)\u001b[49m\n\u001b[1;32m     19\u001b[0m S_list, I_list, R_list, D_list \u001b[38;5;241m=\u001b[39m [], [], [], []\n\u001b[1;32m     20\u001b[0m \u001b[38;5;28;01mfor\u001b[39;00m t \u001b[38;5;129;01min\u001b[39;00m time:\n",
      "\u001b[0;31mKeyboardInterrupt\u001b[0m: "
     ]
    }
   ],
   "source": [
    "# Eulers model\n",
    "dt = 1\n",
    "def euler_step(S, I, R, D, beta, gamma, mu, k, dt):\n",
    "    dS = S - dt * (k * S * np.log(1 + beta* I / N))\n",
    "    dI = I + dt * (k * S * np.log(1 + beta * I / N) - (gamma - mu) * I)\n",
    "    dR = R + dt* (gamma * I)\n",
    "    dD = D + dt * (mu * I)\n",
    "    \n",
    "    S += dS\n",
    "    I += dI\n",
    "    R += dR\n",
    "    D += dD\n",
    "    \n",
    "    return S, I, R, D\n",
    "\n",
    "# Simulation\n",
    "S, I, R, D = S0, I0, R0, D0\n",
    "time = np.arange(0, T, dt)\n",
    "S_list, I_list, R_list, D_list = [], [], [], []\n",
    "for t in time:\n",
    "    S, I, R, D = euler_step(S, I, R, D, beta, gamma, mu, k, dt)\n",
    "    S_list.append(S)\n",
    "    I_list.append(I)\n",
    "    R_list.append(R)\n",
    "    D_list.append(D)\n",
    "\n",
    "# Plotting the results\n",
    "plt.figure(figsize=(12, 8))\n",
    "plt.plot(time, S_list, label='Susceptible', color='blue')\n",
    "plt.plot(time, I_list, label='Infected', color='red')\n",
    "plt.plot(time, R_list, label='Recovered', color='green')\n",
    "plt.plot(time, D_list, label='Deceased', color='black')\n",
    "plt.title('Epidemic Simulation with Non-linear Contact Rate')\n",
    "plt.xlabel('Time (days)')\n",
    "plt.ylabel('Population')\n",
    "plt.legend()\n",
    "plt.grid()\n",
    "plt.xlim(0, T)\n",
    "plt.ylim(0, N)\n",
    "plt.show()\n",
    "plt.savefig('epidemic_simulation.png')\n"
   ]
  }
 ],
 "metadata": {
  "kernelspec": {
   "display_name": "ML",
   "language": "python",
   "name": "python3"
  },
  "language_info": {
   "codemirror_mode": {
    "name": "ipython",
    "version": 3
   },
   "file_extension": ".py",
   "mimetype": "text/x-python",
   "name": "python",
   "nbconvert_exporter": "python",
   "pygments_lexer": "ipython3",
   "version": "3.12.9"
  }
 },
 "nbformat": 4,
 "nbformat_minor": 5
}
