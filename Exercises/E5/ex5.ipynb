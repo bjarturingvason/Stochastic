{
 "cells": [
  {
   "cell_type": "code",
   "execution_count": 98,
   "id": "9b659b3f",
   "metadata": {},
   "outputs": [],
   "source": [
    "import numpy as np\n",
    "from scipy import stats\n",
    "from scipy.stats import norm"
   ]
  },
  {
   "cell_type": "code",
   "execution_count": 99,
   "id": "615322aa",
   "metadata": {},
   "outputs": [],
   "source": [
    "# ex 1. Crude monte carlo simulator\n",
    "\n",
    "def confidence_interval(confidence, means, point_estimate):\n",
    "    std_error = stats.sem(means)\n",
    "    return stats.t.interval(confidence, df=len(means)-1, loc=point_estimate, scale=std_error)\n",
    "\n",
    "\n",
    "def crude_monte_carlo(integral_range: tuple, samples: int, func):\n",
    "    a, b = integral_range\n",
    "    return func(a, b, samples)"
   ]
  },
  {
   "cell_type": "code",
   "execution_count": 100,
   "id": "ec4033ad",
   "metadata": {},
   "outputs": [
    {
     "name": "stdout",
     "output_type": "stream",
     "text": [
      "Exercise 1:\n",
      "Point estimate: 1.7317128301304363\n",
      "Confidence interval: (1.63298, 1.83044)\n"
     ]
    }
   ],
   "source": [
    "# mean of integral of e^x from 0 to 1\n",
    "integral_range = (0,1)\n",
    "samples = 100\n",
    "f = lambda a, b, samples: np.exp(np.random.uniform(a, b, samples))\n",
    "X = crude_monte_carlo(integral_range, samples, f)\n",
    "\n",
    "X_point_estimate = np.mean(X)\n",
    "ci = confidence_interval(0.95, X, X_point_estimate)\n",
    "print(\"Exercise 1:\")\n",
    "print(\"Point estimate:\", X_point_estimate)\n",
    "print(f\"Confidence interval: ({ci[0]:.5f}, {ci[1]:.5f})\")"
   ]
  },
  {
   "cell_type": "code",
   "execution_count": 101,
   "id": "c83ec64a",
   "metadata": {},
   "outputs": [],
   "source": [
    "# Exercise 2\n",
    "def antithetic_variables(integral_range, samples):\n",
    "    Ui = np.random.uniform(low=integral_range[0], high=integral_range[1], size=samples)\n",
    "    Y = (np.exp(Ui) + np.exp(1-Ui)) / 2\n",
    "    return np.array(Y)"
   ]
  },
  {
   "cell_type": "code",
   "execution_count": 102,
   "id": "f40ed759",
   "metadata": {},
   "outputs": [
    {
     "name": "stdout",
     "output_type": "stream",
     "text": [
      "Exercise 2:\n",
      "Point estimate: 1.7134401999183921\n",
      "Confidence interval: (1.69617, 1.73071)\n"
     ]
    }
   ],
   "source": [
    "Y = antithetic_variables(integral_range, samples//2)\n",
    "\n",
    "Y_point_estimate = np.mean(Y)\n",
    "ci = confidence_interval(0.95, Y, Y_point_estimate)\n",
    "print(\"Exercise 2:\")\n",
    "print(\"Point estimate:\", Y_point_estimate)\n",
    "print(f\"Confidence interval: ({ci[0]:.5f}, {ci[1]:.5f})\")"
   ]
  },
  {
   "cell_type": "code",
   "execution_count": 103,
   "id": "ffc5faee",
   "metadata": {},
   "outputs": [],
   "source": [
    "# Exercise 3\n",
    "def control_variate(X, Y, mean_y):\n",
    "    c = -np.cov(X, Y, ddof=1)[0][1] / np.var(Y, ddof=1)\n",
    "    Z = X + c * (Y - mean_y)\n",
    "    var_Z = np.var(X, ddof=1) - np.cov(X,Y, ddof=1)[0][1] ** 2 / np.var(Y, ddof=1)\n",
    "    return Z, var_Z"
   ]
  },
  {
   "cell_type": "code",
   "execution_count": 104,
   "id": "8b92365f",
   "metadata": {},
   "outputs": [
    {
     "name": "stdout",
     "output_type": "stream",
     "text": [
      "Exercise 3 with variables from slides:\n",
      "Z: 1.6517829572307585\n",
      "Var(Z): 0.0030492941868425216\n"
     ]
    }
   ],
   "source": [
    "# Example from slides\n",
    "U = np.random.uniform(0, 1, samples)\n",
    "Z, var_Z = control_variate(np.exp(U), U, np.mean(U))\n",
    "\n",
    "Z_point_estimate = np.mean(Z)\n",
    "print(\"Exercise 3 with variables from slides:\")\n",
    "print(\"Z:\", Z_point_estimate)\n",
    "print(f\"Var(Z):\", var_Z)"
   ]
  },
  {
   "cell_type": "code",
   "execution_count": null,
   "id": "c5491cee",
   "metadata": {},
   "outputs": [],
   "source": [
    "def stratified_sampling(samples, n_strata):\n",
    "    samples_per_stratum = samples // n_strata\n",
    "    i = np.arange(n_strata)\n",
    "    \n",
    "    U = np.random.uniform(0, 1, (n_strata, samples_per_stratum))\n",
    "    Y = (i[:, None] + U) / n_strata \n",
    "    W = np.exp(Y)\n",
    "    \n",
    "    return W, Y\n",
    "\n",
    "n_strata = 10\n",
    "W, Y = stratified_sampling(samples, n_strata)"
   ]
  },
  {
   "cell_type": "code",
   "execution_count": 113,
   "id": "a0e55255",
   "metadata": {},
   "outputs": [
    {
     "name": "stdout",
     "output_type": "stream",
     "text": [
      "Exercise 4:\n",
      "Stratified sampling mean: 1.7167698726833693\n",
      "Number of strata: 10\n"
     ]
    }
   ],
   "source": [
    "print(\"Exercise 4:\")\n",
    "print(f\"Stratified sampling mean: {np.mean(W)}\")\n",
    "print(f\"Number of strata: {n_strata}\")"
   ]
  },
  {
   "cell_type": "code",
   "execution_count": 120,
   "id": "e4be82e8",
   "metadata": {},
   "outputs": [],
   "source": [
    "# Exercise 5 stratified sampling using control variates\n",
    "def stratified_sampling_with_cv(samples, n_strata):\n",
    "    samples_per_stratum = samples // n_strata\n",
    "    i = np.arange(n_strata)\n",
    "    stratum_means = (i + 0.5) / n_strata\n",
    "    \n",
    "    U = np.random.uniform(0, 1, (n_strata, samples_per_stratum))\n",
    "    Y = (i[:, None] + U) / n_strata \n",
    "    W = np.exp(Y)\n",
    "\n",
    "    Z = np.zeros_like(W)\n",
    "    stratum_variances = np.zeros(n_strata)\n",
    "    \n",
    "    for k in range(n_strata):\n",
    "        cov = np.cov(W[k], Y[k])[0, 1]\n",
    "        var_y = np.var(Y[k])\n",
    "        c = -cov / var_y\n",
    "        \n",
    "        Z[k] = W[k] + c * (Y[k] - stratum_means[k])\n",
    "        stratum_variances[k] = np.var(Z[k]) / samples_per_stratum\n",
    "\n",
    "    total_variance = np.sum(stratum_variances) / (n_strata**2)\n",
    "    \n",
    "    return Z, total_variance"
   ]
  },
  {
   "cell_type": "code",
   "execution_count": null,
   "id": "4b0a7684",
   "metadata": {},
   "outputs": [
    {
     "name": "stdout",
     "output_type": "stream",
     "text": [
      "Exercise 5: \n",
      "W: 1.7179554803491837\n",
      "Var(W): 3.1731706092141887e-07\n"
     ]
    }
   ],
   "source": [
    "# Exercise 5\n",
    "Z, var_Z = stratified_sampling_with_cv(samples, n_strata)\n",
    "\n",
    "print('Exercise 5: ')\n",
    "print(\"Z:\", np.mean(Z))\n",
    "print(\"Var(Z):\", var_Z)"
   ]
  },
  {
   "cell_type": "code",
   "execution_count": null,
   "id": "74202894",
   "metadata": {},
   "outputs": [],
   "source": []
  },
  {
   "cell_type": "code",
   "execution_count": null,
   "id": "1352c5a2",
   "metadata": {},
   "outputs": [],
   "source": [
    "# Exercise 7\n",
    "from scipy.stats import norm\n",
    "\n",
    "mu = 0\n",
    "sigma_2 = 1\n",
    "samples = 100\n",
    "a = 2\n",
    "\n",
    "crude_monte_carlo = lambda mu, sigma, samples: np.random.normal(mu, sigma, samples)\n",
    "\n",
    "\n",
    "def importance_sampling(a, sigma, samples):\n",
    "    f = lambda x: norm.pdf(x)\n",
    "    g = lambda x: norm.pdf(x, loc=a, scale=sigma)\n",
    "    \n",
    "    g_samples = np.random.normal(a, sigma, samples)\n",
    "    \n",
    "    weights = f(g_samples) / g(g_samples)\n",
    "    h = (g_samples > a).astype(float)\n",
    "    \n",
    "    estimate = np.mean(h * weights)\n",
    "    variance = np.var(h * weights) / samples\n",
    "    \n",
    "    return estimate, variance"
   ]
  },
  {
   "cell_type": "code",
   "execution_count": 140,
   "id": "931a1a76",
   "metadata": {},
   "outputs": [
    {
     "name": "stdout",
     "output_type": "stream",
     "text": [
      "Crude monte carlo:\n",
      "===============================\n",
      "Odds of Z > a where a=0: 0.51\n",
      "Variance: 0.0024989999999999995\n",
      "===============================\n",
      "Odds of Z > a where a=1: 0.15\n",
      "Variance: 0.001275\n",
      "===============================\n",
      "Odds of Z > a where a=2: 0.04\n",
      "Variance: 0.00038399999999999996\n",
      "===============================\n",
      "Odds of Z > a where a=3: 0.01\n",
      "Variance: 9.9e-05\n",
      "===============================\n",
      "Odds of Z > a where a=4: 0.0\n",
      "Variance: 0.0\n",
      "===============================\n"
     ]
    }
   ],
   "source": [
    "# Exercise 7\n",
    "Z = crude_monte_carlo(mu, sigma_2, samples)\n",
    "print(\"Crude monte carlo:\")\n",
    "for a in [0, 1, 2, 3, 4]:\n",
    "    print(\"===============================\")\n",
    "    print(f\"Odds of Z > a where a={a}: {(Z>a).mean()}\")\n",
    "    print(\"Variance:\", (Z>a).var() / samples)\n",
    "print(\"===============================\")"
   ]
  },
  {
   "cell_type": "code",
   "execution_count": 144,
   "id": "8eecf487",
   "metadata": {},
   "outputs": [
    {
     "name": "stdout",
     "output_type": "stream",
     "text": [
      "===============================\n",
      "Odds of Z > a where a=0 and sigma_2 = 1: 0.51\n",
      "Variance: 0.0024989999999999995\n",
      "===============================\n",
      "Odds of Z > a where a=0 and sigma_2 = 2: 0.47183432257284375\n",
      "Variance: 0.004332750054263219\n",
      "===============================\n",
      "Odds of Z > a where a=0 and sigma_2 = 3: 0.45202891037230164\n",
      "Variance: 0.007671797510444788\n",
      "===============================\n",
      "Odds of Z > a where a=1 and sigma_2 = 1: 0.1519475364927777\n",
      "Variance: 0.0004078230649432278\n",
      "===============================\n",
      "Odds of Z > a where a=1 and sigma_2 = 2: 0.18297639297409685\n",
      "Variance: 0.0011308404724020159\n",
      "===============================\n",
      "Odds of Z > a where a=1 and sigma_2 = 3: 0.1662841721478388\n",
      "Variance: 0.00150146891596583\n",
      "===============================\n",
      "Odds of Z > a where a=2 and sigma_2 = 1: 0.022129269144666078\n",
      "Variance: 1.1260365677980657e-05\n",
      "===============================\n",
      "Odds of Z > a where a=2 and sigma_2 = 2: 0.02609550854135541\n",
      "Variance: 3.4641585783224095e-05\n",
      "===============================\n",
      "Odds of Z > a where a=2 and sigma_2 = 3: 0.03131464784283799\n",
      "Variance: 6.201495844782132e-05\n",
      "===============================\n",
      "Odds of Z > a where a=3 and sigma_2 = 1: 0.001085850433735574\n",
      "Variance: 3.4846004140637864e-08\n",
      "===============================\n",
      "Odds of Z > a where a=3 and sigma_2 = 2: 0.0012309185253518394\n",
      "Variance: 8.955282247498607e-08\n",
      "===============================\n",
      "Odds of Z > a where a=3 and sigma_2 = 3: 0.001163204385926083\n",
      "Variance: 1.4380216453980247e-07\n"
     ]
    }
   ],
   "source": [
    "for a in range(4):\n",
    "    for sigma in range(1,4):\n",
    "        estimate, variance = importance_sampling(a, sigma, samples)\n",
    "        print(\"===============================\")\n",
    "        print(f\"Odds of Z > a where a={a} and sigma_2 = {sigma}: {estimate}\")\n",
    "        print(\"Variance:\", variance)"
   ]
  },
  {
   "cell_type": "code",
   "execution_count": 153,
   "id": "6cf2d50e",
   "metadata": {},
   "outputs": [],
   "source": [
    "# Exercise 8\n",
    "def importance_sampling_exp(samples, _lambda):\n",
    "    Y = np.random.exponential(scale=1/_lambda, size=samples)\n",
    "    W = np.exp(Y) / (_lambda * np.exp(-_lambda * Y))\n",
    "    estimate = np.mean(W * (Y <= 1))\n",
    "    variance = np.var(W * (Y <= 1)) / samples\n",
    "    return estimate, variance"
   ]
  },
  {
   "cell_type": "code",
   "execution_count": 181,
   "id": "a73b65e9",
   "metadata": {},
   "outputs": [
    {
     "name": "stdout",
     "output_type": "stream",
     "text": [
      "Optimal lambda ~ 1.3000000000000003 gives estimate 1.7769066702253646, with variance 0.03903824071782655\n"
     ]
    }
   ],
   "source": [
    "optimal_lambda = None\n",
    "lowest_var = np.inf\n",
    "\n",
    "for _lambda in np.arange(1,2,0.1):\n",
    "    est, var = importance_sampling_exp(100, _lambda)\n",
    "    if var < lowest_var:\n",
    "        lowest_var = var\n",
    "        optimal_lambda = _lambda\n",
    "\n",
    "print(f\"Optimal lambda ~ {optimal_lambda} gives estimate {est}, with variance {var}\")"
   ]
  },
  {
   "cell_type": "code",
   "execution_count": 73,
   "id": "4c95e8fb",
   "metadata": {},
   "outputs": [
    {
     "name": "stdout",
     "output_type": "stream",
     "text": [
      "\n",
      "Optimal lambda: 0.50\n",
      "IS estimate: 1.729972, True value: 1.718282\n",
      "Variance: 1.46e-04\n"
     ]
    }
   ],
   "source": [
    "# Exercise 8\n",
    "def importance_sampling_exp(n_samples=10000, lambd=1):\n",
    "    \"\"\"Importance sampling with exponential proposal\"\"\"\n",
    "    # Sample from exponential\n",
    "    Y = np.random.exponential(scale=1/lambd, size=n_samples)\n",
    "    # Only keep samples in [0,1]\n",
    "    Y = Y[Y <= 1]\n",
    "    if len(Y) == 0:\n",
    "        return 0, 0  # Edge case when lambda is too large\n",
    "    \n",
    "    # Calculate weights\n",
    "    f = 1  # Uniform PDF\n",
    "    g = lambd * np.exp(-lambd * Y)  # Exponential PDF\n",
    "    h = np.exp(Y)\n",
    "    W = h * f / g\n",
    "    \n",
    "    # Correct for truncation to [0,1]\n",
    "    correction = 1 - np.exp(-lambd)  # P(Y ≤ 1)\n",
    "    return np.mean(W) * correction, np.var(W)/len(Y) * correction**2\n",
    "\n",
    "# Find optimal lambda by minimizing variance\n",
    "lambdas = np.linspace(0.1, 10, 50)\n",
    "variances = []\n",
    "for l in lambdas:\n",
    "    _, var = importance_sampling_exp(lambd=l)\n",
    "    variances.append(var)\n",
    "    \n",
    "optimal_lambda = lambdas[np.argmin(variances)]\n",
    "print(f\"\\nOptimal lambda: {optimal_lambda:.2f}\")\n",
    "\n",
    "# Compare with true integral (e^1 - e^0 ≈ 1.71828)\n",
    "est, var = importance_sampling_exp(lambd=optimal_lambda)\n",
    "print(f\"IS estimate: {est:.6f}, True value: {np.exp(1)-1:.6f}\")\n",
    "print(f\"Variance: {var:.2e}\")"
   ]
  },
  {
   "cell_type": "code",
   "execution_count": null,
   "id": "63401eae",
   "metadata": {},
   "outputs": [],
   "source": [
    "# Exercise 9\n"
   ]
  }
 ],
 "metadata": {
  "kernelspec": {
   "display_name": "deep_learning_ex_2",
   "language": "python",
   "name": "python3"
  },
  "language_info": {
   "codemirror_mode": {
    "name": "ipython",
    "version": 3
   },
   "file_extension": ".py",
   "mimetype": "text/x-python",
   "name": "python",
   "nbconvert_exporter": "python",
   "pygments_lexer": "ipython3",
   "version": "3.12.2"
  }
 },
 "nbformat": 4,
 "nbformat_minor": 5
}
