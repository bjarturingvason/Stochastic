{
 "cells": [
  {
   "cell_type": "code",
   "execution_count": 15,
   "id": "c813dfa8",
   "metadata": {},
   "outputs": [],
   "source": [
    "import numpy as np"
   ]
  },
  {
   "cell_type": "code",
   "execution_count": 57,
   "id": "5a737fa5",
   "metadata": {},
   "outputs": [],
   "source": [
    "def bootstrap(r, data):\n",
    "    n = len(data)\n",
    "    means = []\n",
    "    medians = []\n",
    "    for _ in range(r):\n",
    "        resample = np.random.choice(data, size=n, replace=True)\n",
    "        means.append(resample.mean())\n",
    "        medians.append(np.median(resample))\n",
    "        \n",
    "    return np.array(means), np.array(medians)\n"
   ]
  },
  {
   "cell_type": "code",
   "execution_count": 17,
   "id": "410b4d8f",
   "metadata": {},
   "outputs": [
    {
     "name": "stdout",
     "output_type": "stream",
     "text": [
      "p = 0.7585\n"
     ]
    }
   ],
   "source": [
    "def bootstrap_prob_estimate(X, a, b, r=10000):\n",
    "    n = len(X)\n",
    "    mu_hat = np.mean(X)\n",
    "    p_hat = 0\n",
    "    \n",
    "    for _ in range(r):\n",
    "        bootstrap_sample = np.random.choice(X, size=n, replace=True)\n",
    "        centered_mean = np.mean(bootstrap_sample) - mu_hat\n",
    "    \n",
    "        if a < centered_mean < b:\n",
    "            p_hat += 1\n",
    "    \n",
    "    return p_hat / r\n",
    "\n",
    "X = [56, 101, 78, 67, 93, 87, 64, 72, 80, 69]\n",
    "a = -5\n",
    "b = 5\n",
    "p = bootstrap_prob_estimate(X, a, b, 10000)\n",
    "print(f'p = {p}')"
   ]
  },
  {
   "cell_type": "code",
   "execution_count": 18,
   "id": "a733c595",
   "metadata": {},
   "outputs": [
    {
     "name": "stdout",
     "output_type": "stream",
     "text": [
      "Original sample variance S²: 34.3143\n",
      "Bootstrap estimate of Var(S²): 58.9827\n"
     ]
    }
   ],
   "source": [
    "# Exercise 15 in Brown\n",
    "data = [5,4,9,6,21,17,11,20,7,10,21,15,13,16,8]\n",
    "r = 1000\n",
    "n = len(data)\n",
    "\n",
    "\n",
    "def var_bootstrap(data, r):\n",
    "    bootstrap_S2 = np.empty(r)\n",
    "    for i in range(r):\n",
    "        bootstrap_sample = np.random.choice(data, size=n, replace=True)\n",
    "        bootstrap_S2[i] = np.var(bootstrap_sample, ddof=1)\n",
    "    return bootstrap_S2\n",
    "\n",
    "# Bootstrap estimate of Var(S^2)\n",
    "bootstrap_var_S2 = np.var(var_bootstrap(data, r), ddof=1)\n",
    "S2_original = np.var(data, ddof=1)\n",
    "\n",
    "print(f\"Original sample variance S²: {S2_original:.4f}\")\n",
    "print(f\"Bootstrap estimate of Var(S²): {bootstrap_var_S2:.4f}\")"
   ]
  },
  {
   "cell_type": "code",
   "execution_count": 69,
   "id": "47d31e54",
   "metadata": {},
   "outputs": [
    {
     "name": "stdout",
     "output_type": "stream",
     "text": [
      "Exercise 3:\n",
      "Sample mean:  3.8144646203163823\n",
      "Sample median:  1.8645767147058043\n"
     ]
    }
   ],
   "source": [
    "# Exercise 3\n",
    "def bootstrap_variance(data, r, statistic):\n",
    "    n = len(data)\n",
    "    results = []\n",
    "    for _ in range(r):\n",
    "        resample = np.random.choice(data, size=n, replace=True)\n",
    "        results.append(statistic(resample))\n",
    "    return np.var(results, ddof=1)\n",
    "\n",
    "data = np.random.pareto(1.05, 200) + 1\n",
    "r = 100\n",
    "sample_mean = np.mean(data)\n",
    "sample_median = np.median(data)\n",
    "\n",
    "print(\"Exercise 3:\")\n",
    "print(\"Sample mean: \", sample_mean.mean())\n",
    "print(\"Sample median: \", np.median(sample_median))"
   ]
  },
  {
   "cell_type": "code",
   "execution_count": 54,
   "id": "85827272",
   "metadata": {},
   "outputs": [
    {
     "name": "stdout",
     "output_type": "stream",
     "text": [
      "Variance of bootstrapped means: 29.35801755543887\n"
     ]
    }
   ],
   "source": [
    "# B)\n",
    "mean_var = bootstrap_variance(data, r, np.mean)\n",
    "print('Variance of bootstrapped means:', mean_var)"
   ]
  },
  {
   "cell_type": "code",
   "execution_count": 64,
   "id": "00efaeed",
   "metadata": {},
   "outputs": [
    {
     "name": "stdout",
     "output_type": "stream",
     "text": [
      "Variance of bootstrapped medians: 0.010579626563359657\n"
     ]
    }
   ],
   "source": [
    "# C)\n",
    "median_var = bootstrap_variance(data, r, np.median)\n",
    "print('Variance of bootstrapped medians:', median_var)"
   ]
  },
  {
   "cell_type": "code",
   "execution_count": 56,
   "id": "f12c43a6",
   "metadata": {},
   "outputs": [
    {
     "name": "stdout",
     "output_type": "stream",
     "text": [
      "Coefficient of variation of mean: 0.465637299138331\n",
      "Coefficient of variation of median: 0.06405125576591814\n",
      "As the coefficient of variation of the median is lower than of the mean, the median is more precise.\n"
     ]
    }
   ],
   "source": [
    "# D)\n",
    "cv_mean = np.std(bootstrapped_means) / np.mean(bootstrapped_means)\n",
    "cv_median = np.std(bootstrapped_medians) / np.median(bootstrapped_medians)\n",
    "\n",
    "print(f\"Coefficient of variation of mean: {cv_mean}\")\n",
    "print(f\"Coefficient of variation of median: {cv_median}\")\n",
    "print(\"As the coefficient of variation of the median is lower than of the mean, the median is more precise.\")"
   ]
  }
 ],
 "metadata": {
  "kernelspec": {
   "display_name": "deep_learning_ex_2",
   "language": "python",
   "name": "python3"
  },
  "language_info": {
   "codemirror_mode": {
    "name": "ipython",
    "version": 3
   },
   "file_extension": ".py",
   "mimetype": "text/x-python",
   "name": "python",
   "nbconvert_exporter": "python",
   "pygments_lexer": "ipython3",
   "version": "3.12.2"
  }
 },
 "nbformat": 4,
 "nbformat_minor": 5
}
