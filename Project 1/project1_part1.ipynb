{
 "cells": [
  {
   "cell_type": "markdown",
   "metadata": {},
   "source": [
    "# Simulation and estimation in a Markov model of breast cancer\n",
    "\n",
    "* Interpretation of states:\n",
    "    - 1 : “Disease‑free after surgery”\n",
    "    - 2 : “Local recurrence”\n",
    "    - 3 : \"Distant metastasis”\n",
    "    - 4 :  \"Local and distant\"\n",
    "    - 5 :  “Death (absorbing)”\n",
    "* Time step\n",
    "    - 1 month\n",
    "* Probability matrix, P\n",
    "* Initial condition: All 1000 women start in state 1 at month t = 0.\n",
    "* Stopping criterion: End the simulation as soon as state 5 is reached\n",
    "\n",
    " \n"
   ]
  },
  {
   "cell_type": "code",
   "execution_count": 29,
   "metadata": {},
   "outputs": [],
   "source": [
    "import numpy as np\n",
    "import matplotlib.pyplot as plt\n",
    "from numpy.linalg import matrix_power\n",
    "from scipy import stats"
   ]
  },
  {
   "cell_type": "markdown",
   "metadata": {},
   "source": [
    "## Part 1: A discrete-time mode"
   ]
  },
  {
   "cell_type": "code",
   "execution_count": 15,
   "metadata": {},
   "outputs": [],
   "source": [
    "########## Transition matrix ##########\n",
    "P = np.array([\n",
    "    [0.9915, 0.005 , 0.0025, 0.    , 0.001 ],\n",
    "    [0.    , 0.986 , 0.005 , 0.004 , 0.005 ],\n",
    "    [0.    , 0.    , 0.992 , 0.003 , 0.005 ],\n",
    "    [0.    , 0.    , 0.    , 0.991 , 0.009 ],\n",
    "    [0.    , 0.    , 0.    , 0.    , 1.    ]\n",
    "])"
   ]
  },
  {
   "cell_type": "markdown",
   "metadata": {},
   "source": [
    "### Task 1\n",
    "Questions:\n",
    " - Histogram of lifetimes (months alive after surgery)\n",
    " - Proportion of women who ever visit state 2 (“cancer reappears locally”)"
   ]
  },
  {
   "cell_type": "code",
   "execution_count": 19,
   "metadata": {},
   "outputs": [
    {
     "name": "stdout",
     "output_type": "stream",
     "text": [
      "Mean lifetime: 269.7 months\n",
      "Median lifetime: 232 months\n",
      "Std-dev: 187.8 months\n",
      "Proportion with local recurrence: 0.596\n"
     ]
    },
    {
     "data": {
      "image/png": "[encoded data removed]",
      "text/plain": [
       "<Figure size 640x480 with 1 Axes>"
      ]
     },
     "metadata": {},
     "output_type": "display_data"
    }
   ],
   "source": [
    "\n",
    "initial_state = 0 # Initial state of each woman X_0 = 1 with 0-index\n",
    "N_women = 1000 # number of women\n",
    "# draws from a categorical distribution over possible states 0-indexed\n",
    "rng = np.random.default_rng(40)\n",
    "\n",
    "\n",
    "lifetimes = []\n",
    "state_2 = []\n",
    "\n",
    "\n",
    "for _ in range(N_women):\n",
    "    state = initial_state\n",
    "    months = 0\n",
    "    seen_state_2 = False\n",
    "\n",
    "    while state != 4:\n",
    "        state = rng.choice(5, p=P[state]) # state for 0-indexing. P[state] is the correspnding row with probs. of transitioning from the current state.\n",
    "        months += 1\n",
    "        if state == 1: # state 2\n",
    "            seen_state_2 = True\n",
    "\n",
    "\n",
    "    lifetimes.append(months)\n",
    "    state_2.append(seen_state_2)\n",
    "\n",
    "\n",
    "lifetimes = np.array(lifetimes)\n",
    "local_recurrences = np.array(state_2)\n",
    "\n",
    "\n",
    "######## Analysis Task 1 ############\n",
    "print(f\"Mean lifetime: {lifetimes.mean():.1f} months\")\n",
    "print(f\"Median lifetime: {np.median(lifetimes):.0f} months\")\n",
    "print(f\"Std-dev: {lifetimes.std(ddof=1):.1f} months\")\n",
    "print(f\"Proportion with local recurrence: {local_recurrences.mean():.3f}\")\n",
    "\n",
    "plt.hist(lifetimes, bins=40, edgecolor='black')\n",
    "plt.xlabel(\"Lifetime after surgery (months)\")\n",
    "plt.ylabel(\"Number of women\")\n",
    "plt.title(\"Empirical lifetime distribution (n=1000)\")\n",
    "plt.show()\n"
   ]
  },
  {
   "cell_type": "markdown",
   "metadata": {},
   "source": [
    "### Task 2\n",
    "Let $p_t$ denote the probability distribution over the states at time $t$. This distribution can be found from the following formula: $p_t = p_0(P_t)$."
   ]
  },
  {
   "cell_type": "code",
   "execution_count": 36,
   "metadata": {},
   "outputs": [
    {
     "name": "stdout",
     "output_type": "stream",
     "text": [
      "Empirical distribution of states at t = 120 months:, \n",
      " [0.361 0.144 0.175 0.072 0.248]\n",
      "Theoretical distribution of states at t = 120 months:, \n",
      " [0.35902627 0.15895604 0.1660869  0.06774149 0.2481893 ]\n",
      "Fail to reject the null hypothesis with p-value: 0.7055835278305791\n"
     ]
    }
   ],
   "source": [
    "######## Simulate empirical dist of states for t = 120 ##########\n",
    "\n",
    "N = 1000  # number of simulations (bigger N -> smaller monte carlo error)\n",
    "states_count = np.zeros(5, dtype=int)\n",
    "rng = np.random.default_rng(40)\n",
    "\n",
    "for _ in range(N):\n",
    "    state = 0\n",
    "    for _ in range(120): ## t = 120 months\n",
    "        state = rng.choice(5, p=P[state])\n",
    "    states_count[state] += 1\n",
    "empirical_dist_120 = states_count / N\n",
    "\n",
    "print(\"Empirical distribution of states at t = 120 months:, \\n\", empirical_dist_120)\n",
    "\n",
    "######## Calculate theretical dist of states for t = 120 ##########\n",
    "p0 = np.array([1,0,0,0,0])\n",
    "theoretical_dist = p0 @ matrix_power(P, 120)\n",
    "\n",
    "print(\"Theoretical distribution of states at t = 120 months:, \\n\", theoretical_dist)\n",
    "\n",
    "######### Chi-squared test ##########\n",
    "chi2, p_value = stats.chisquare(states_count, N*theoretical_dist)\n",
    "alpha = 0.05\n",
    "if p_value < alpha:\n",
    "    print(\"Reject the null hypothesis with p-value:\", p_value)\n",
    "else:\n",
    "    print(\"Fail to reject the null hypothesis with p-value:\", p_value)"
   ]
  },
  {
   "cell_type": "markdown",
   "metadata": {},
   "source": [
    "### Task 3\n",
    "It can be shown that the lifetime, T, follows a so-called discrete phase-type distribution. This distribution has probability mass function $P(T = t) = \\pi(P_s)^tp_s$. And mean $E(T) = \\pi(I − P_s)^{−1}1$. Where:\n",
    " - $\\pi$ is the distribution over states 1, 2, 3, 4 at t = 0.\n",
    " - $P_s$ is a 4 × 4 sub-matrix of $P$ formed by removing the last row and column. \n",
    " - $p_s$ is column vector indicating the probability of dying from states 1, 2, 3, 4. \n",
    " - 1 is a vector of ones of appropriate dimension."
   ]
  },
  {
   "cell_type": "code",
   "execution_count": 43,
   "metadata": {},
   "outputs": [
    {
     "data": {
      "image/png": "[encoded data removed]",
      "text/plain": [
       "<Figure size 640x480 with 1 Axes>"
      ]
     },
     "metadata": {},
     "output_type": "display_data"
    },
    {
     "name": "stdout",
     "output_type": "stream",
     "text": [
      "Mean lifetime: 269.7 months\n",
      "Median lifetime: 232 months\n",
      "Std-dev: 187.8 months\n",
      "Proportion with local recurrence: 0.596\n"
     ]
    }
   ],
   "source": [
    "########### Theoretical lifetime distribution ##########\n",
    "\n",
    "Ps = P[:4, :4] #submatrix excluding dying state\n",
    "ps = P[:4, 4] #transition probabilities to dying\n",
    "pi = np.array([1,0,0,0]) # initial distribution of states, all women in state 1\n",
    "\n",
    "\n",
    "t_max = 1250\n",
    "pmf_lifetime = np.empty(t_max)\n",
    "for t in range(t_max):\n",
    "    pmf_lifetime[t] = pi @ matrix_power(Ps, t) @ ps\n",
    "pmf_lifetime /= pmf_lifetime.sum()\n",
    "cdf_lifetime = np.cumsum(pmf_lifetime)\n",
    "\n",
    "def theo_cdf_lifetimes(t):\n",
    "    # floor to integer months, map k→index k−1\n",
    "    k = np.floor(t).astype(int)\n",
    "    idx = k - 1\n",
    "    # clip so idx<0 → 0.0 and idx>=t_max → 1.0\n",
    "    idx = np.clip(idx, -1, t_max-1)\n",
    "    return np.where(idx < 0, 0.0, cdf[idx])\n",
    "\n",
    "\n",
    "\n",
    "ks_stat, p_value = stats.kstest(lifetimes, theo_cdf_lifetimes, alternative='two-sided')\n",
    "\n",
    "\n",
    "plt.hist(lifetimes, bins=40, density=True, alpha=0.5, edgecolor='black', label='Empirical Lifetime Distribution')\n",
    "plt.plot(np.arange(t_max), pmf_lifetime, color='red', label='Theoretical Lifetime Distribution')\n",
    "plt.legend()\n",
    "plt.xlabel(\"Lifetime (months)\")\n",
    "plt.ylabel(\"Probability\")\n",
    "plt.title(\"Empirical and Theoretical Lifetime Distribution\")\n",
    "plt.show()\n",
    "\n"
   ]
  },
  {
   "cell_type": "code",
   "execution_count": null,
   "metadata": {},
   "outputs": [],
   "source": [
    "#### some statistical tests, needs to be done #####"
   ]
  },
  {
   "cell_type": "markdown",
   "metadata": {},
   "source": [
    "### Task 4\n",
    "\n",
    "Estimate the expected lifetime, after surgery, of a woman who survives the\n",
    "first 12 months following surgery, but whose breast cancer has also reappeared within the first 12 months, either locally or distant.\n",
    "Hint: Use rejection sampling. Simulate a number of women, and discard\n",
    "all simulations that do not meet the requirements. Do this until you have\n",
    "reached 1000 acceptable simulations."
   ]
  },
  {
   "cell_type": "code",
   "execution_count": 47,
   "metadata": {},
   "outputs": [
    {
     "name": "stdout",
     "output_type": "stream",
     "text": [
      "Simulated 11,683 women to get 1000 accepted.\n",
      "Rejected 10,683 women (i.e. didn't survive+recur by 12m).\n",
      "Expected lifetime of accepted women: 183.1 months\n"
     ]
    }
   ],
   "source": [
    "initial_state = 0\n",
    "N_accepted_women = 1000\n",
    "rng = np.random.default_rng(40)\n",
    "\n",
    "accepted_lifetimes = []\n",
    "n_trials = 0   # total women simulated\n",
    "\n",
    "while len(accepted_lifetimes) < N_accepted_women:\n",
    "    n_trials += 1 \n",
    "\n",
    "    # simulate first months 1–12\n",
    "    state      = initial_state\n",
    "    recurred   = False\n",
    "    survived12 = True\n",
    "\n",
    "    for month in range(1, 13):\n",
    "        state = rng.choice(5, p=P[state])\n",
    "        if state == 4:\n",
    "            survived12 = False\n",
    "            break\n",
    "        if state in (1,2,3):\n",
    "            recurred = True\n",
    "\n",
    "    # reject unless both hold\n",
    "    if not (survived12 and recurred):\n",
    "        continue\n",
    "\n",
    "    # finish to death\n",
    "    months = 12\n",
    "    while state != 4:\n",
    "        state  = rng.choice(5, p=P[state])\n",
    "        months += 1\n",
    "\n",
    "    accepted_lifetimes.append(months)\n",
    "\n",
    "n_accepted = len(accepted_lifetimes)\n",
    "n_rejected = n_trials - n_accepted\n",
    "print(f\"Simulated {n_trials:,} women to get {n_accepted} accepted.\")\n",
    "print(f\"Rejected {n_rejected:,} women (i.e. didn't survive+recur by 12m).\")\n",
    "#Expected lifetime of accepted women\n",
    "expected_lifetime = np.mean(accepted_lifetimes)\n",
    "print(f\"Expected lifetime of accepted women: {expected_lifetime:.1f} months\")"
   ]
  },
  {
   "cell_type": "markdown",
   "metadata": {},
   "source": [
    "### Task 5\n",
    "\n",
    "What fraction of women die within the first 350 months? Answer this by simulating 200 women, and record the fraction. Do this 100 times. Use control variates to reduce the variance. How large a reduction in variance do you see, using control variates, as opposed to the crude Monte Carlo estimator? Hint: Use the mean lifetime after surgery of the 200 simulations as the control variate."
   ]
  },
  {
   "cell_type": "code",
   "execution_count": 53,
   "metadata": {},
   "outputs": [
    {
     "name": "stdout",
     "output_type": "stream",
     "text": [
      "Crude estimator:\n",
      "  mean = 0.7431,  variance = 9.185126e-04\n",
      "Control-variate estimator:\n",
      "  mean = 0.7432,  variance = 3.985151e-04\n",
      "Variance reduction = 56.6%\n"
     ]
    }
   ],
   "source": [
    "repeats = 100\n",
    "N_women = 200\n",
    "\n",
    "initial_state = 0\n",
    "rng = np.random.default_rng(40)\n",
    "lifetime350_fraction = []\n",
    "control_variate = [] # contral variate\n",
    "\n",
    "\n",
    "for _ in range(repeats):\n",
    "    lifetimes = []\n",
    "    for _ in range(N_women):\n",
    "        state = initial_state\n",
    "        months = 0\n",
    "\n",
    "        while state != 4:\n",
    "            state = rng.choice(5, p=P[state]) # state for 0-indexing. P[state] is the correspnding row with probs. of transitioning from the current state.\n",
    "            months += 1\n",
    "        lifetimes.append(months)\n",
    "    \n",
    "    lifetimes = np.array(lifetimes)\n",
    "    lifetime350_fraction.append(np.sum(lifetimes <= 350)/N_women)\n",
    "    control_variate.append(np.mean(lifetimes))\n",
    "\n",
    "\n",
    "\n",
    "### Result of experiment with control variate ###\n",
    "\n",
    "lifetime350_fraction = np.asarray(lifetime350_fraction)\n",
    "control_variate = np.asarray(control_variate)\n",
    "# Empirical covariance\n",
    "cov = np.cov(lifetime350_fraction, control_variate, ddof=1)\n",
    "# control variate adjustment\n",
    "c_star = -cov[0,1] / cov[1,1]\n",
    "fraction_cv = lifetime350_fraction + c_star * (control_variate - control_variate.mean())\n",
    "\n",
    "######## Compare estimators ######## \n",
    "\n",
    "# Crude Monte Carlo estimator\n",
    "mean_crude = lifetime350_fraction.mean()\n",
    "var_crude = lifetime350_fraction.var(ddof=1)\n",
    "\n",
    "## Control variate estimator\n",
    "mean_cv = fraction_cv.mean()\n",
    "var_cv = fraction_cv.var(ddof=1)\n",
    "\n",
    "percent_reduction = 100 * (1 - var_cv / var_crude)\n",
    "\n",
    "print(f\"Crude estimator:\")\n",
    "print(f\"  mean = {mean_crude:.4f},  variance = {var_crude:.6e}\")\n",
    "\n",
    "print(f\"Control-variate estimator:\")\n",
    "print(f\" mean = {mean_cv:.4f},  variance = {var_cv:.6e}\")\n",
    "print(f\"Variance reduction = {percent_reduction:.1f}%\")\n"
   ]
  },
  {
   "cell_type": "markdown",
   "metadata": {},
   "source": [
    "### Task 6\n",
    "What assumptions underlie the discrete tome Markov chain model? Are those assumpitions realistifc? How may we relax some of these assumptions, possibly at the cost of increased model complexity?\n",
    "\n",
    " - The Markov property makes it so that the future depends only on the current state, not on how long the patient has already spent there, i.e. once a woman is in “distant metastasis” (state 3), the same row of P is used whether she entered 1 month or 5 years ago, which probably should indicate a higher risk. In addition, we have a fixed one-month step: all events are rounded to month-ends and multiple events inside one month are collapsed into one transition. However, transitions may occur at any time. Furthermore, there’s no covariates, maybe such as age which could affect the transition probabilities. Relaxations of these assumptions would increase model complexities."
   ]
  },
  {
   "cell_type": "markdown",
   "metadata": {},
   "source": [
    "## Part 2: A continuous-time model"
   ]
  },
  {
   "cell_type": "code",
   "execution_count": 54,
   "metadata": {},
   "outputs": [],
   "source": [
    "########## Transition matrix ##########\n",
    "Q = np.array([\n",
    "    [-0.0085,  0.005,   0.0025, 0,       0.001],\n",
    "    [0,       -0.014,   0.005,  0.004,   0.005],\n",
    "    [0,        0,      -0.008,  0.003,   0.005],\n",
    "    [0,        0,       0,     -0.009,   0.009],\n",
    "    [0,        0,       0,      0,       0    ]\n",
    "])"
   ]
  },
  {
   "cell_type": "markdown",
   "metadata": {},
   "source": [
    "### Task 7"
   ]
  },
  {
   "cell_type": "code",
   "execution_count": null,
   "metadata": {},
   "outputs": [],
   "source": [
    "\n"
   ]
  }
 ],
 "metadata": {
  "kernelspec": {
   "display_name": "python_school",
   "language": "python",
   "name": "python3"
  },
  "language_info": {
   "codemirror_mode": {
    "name": "ipython",
    "version": 3
   },
   "file_extension": ".py",
   "mimetype": "text/x-python",
   "name": "python",
   "nbconvert_exporter": "python",
   "pygments_lexer": "ipython3",
   "version": "3.13.5"
  }
 },
 "nbformat": 4,
 "nbformat_minor": 2
}
